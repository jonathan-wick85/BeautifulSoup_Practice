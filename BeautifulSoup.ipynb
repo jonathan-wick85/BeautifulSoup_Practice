{
 "cells": [
  {
   "cell_type": "markdown",
   "id": "cbe6af50-faf8-4737-9dd5-773815625226",
   "metadata": {},
   "source": [
    "# Getting Started with Python Web Scraping\n",
    "Source: https://learning.oreilly.com/videos/getting-started-with/9781787283244/9781787283244/"
   ]
  },
  {
   "cell_type": "markdown",
   "id": "d4401113-1923-44e5-8fdf-0ff9499cad96",
   "metadata": {},
   "source": [
    "## Chapter 1 - Scraping with Selenium\n",
    "\n",
    "### When and Why Web Scrape\n",
    "* Increased efficiency\n",
    "* Retrieve updating data\n",
    "* Automate tedious/repetitive tasks\n",
    "* Make informed decisions\n"
   ]
  },
  {
   "cell_type": "markdown",
   "id": "1dda05b2-682c-4880-b9e0-844ed8597a2c",
   "metadata": {},
   "source": [
    "In Console you can test tags using $$(\".class_id\"). \n",
    "\n",
    "Example: https://github.com/microsoft/TypeScript/commits/main\n",
    "    $$(\".mb-1\") yields: \n",
    "    \n",
    "    \n",
    "    (35) [p.mb-1, p.mb-1, p.mb-1, p.mb-1, p.mb-1, p.mb-1, p.mb-1, p.mb-1, p.mb-1, p.mb-1, p.mb-1, p.mb-1, p.mb-1, p.mb-1, p.mb-1, p.mb-1, p.mb-1, p.mb-1, p.mb-1, p.mb-1, p.mb-1, p.mb-1, p.mb-1, p.mb-1, p.mb-1, p.mb-1, p.mb-1, p.mb-1, p.mb-1, p.mb-1, p.mb-1, p.mb-1, p.mb-1, p.mb-1, p.mb-1]0: p.mb-11: p.mb-12: p.mb-13: p.mb-14: p.mb-15: p.mb-16: p.mb-17: p.mb-18: p.mb-19: p.mb-110: p.mb-111: p.mb-112: p.mb-113: p.mb-114: p.mb-115: p.mb-116: p.mb-117: p.mb-118: p.mb-119: p.mb-120: p.mb-121: p.mb-122: p.mb-123: p.mb-  124: p.mb-125: p.mb-126: p.mb-127: p.mb-128: p.mb-129: p.mb-130: p.mb-131: p.mb-132: p.mb-133: p.mb-134: p.mb-1length: 35[[Prototype]]: Array(0)"
   ]
  },
  {
   "cell_type": "markdown",
   "id": "afce9bf0-8d32-4a36-87c9-23818b904aa5",
   "metadata": {},
   "source": [
    "If there isn't a good ID nearby, we can use Xpaths.  This however makes the query very easy to break with small changes. \n",
    "\n",
    "     \"$x('//*[@id=\"code-tab\"]/span[1]')\""
   ]
  },
  {
   "cell_type": "markdown",
   "id": "b4aca868-ae8f-4f8c-a9b7-19688a6ee898",
   "metadata": {},
   "source": [
    "### Using the Selenium Module\n",
    "\n",
    "#### WebDriver\n",
    "* Commonly used to test web-applications\n",
    "* Allows us to write Python to automate the browser\n"
   ]
  },
  {
   "cell_type": "code",
   "execution_count": 137,
   "id": "84c2f6ea-6304-4654-9154-3d3fdbbf2f77",
   "metadata": {},
   "outputs": [],
   "source": [
    "from selenium import webdriver\n",
    "import selenium\n",
    "import pprint\n",
    "from selenium.webdriver.chrome.options import Options\n",
    "from selenium.webdriver.common.by import By\n",
    "options = Options()\n",
    "options.add_argument('--headless')\n",
    "browser = webdriver.Chrome(options=options)"
   ]
  },
  {
   "cell_type": "code",
   "execution_count": 138,
   "id": "09cc5026-d682-45d8-83bb-b81c725f6981",
   "metadata": {},
   "outputs": [],
   "source": [
    "browser.get(\"https://old.reddit.com\")"
   ]
  },
  {
   "cell_type": "code",
   "execution_count": 141,
   "id": "92b5f258-7f26-43b6-9140-d2b6e821a28d",
   "metadata": {},
   "outputs": [
    {
     "data": {
      "text/plain": [
       "[\"What show has an intro that is such a banger, you wouldn't dream of hitting the skip button?\",\n",
       " '[Highlight] Nikola Jokic shoves Markieff Morris to the ground from behind',\n",
       " 'NASA’s James Webb Telescope Arriving for Launch',\n",
       " \"LPT Request: To poor spellers out there....the reason people don't respect your poor spelling isn't purely because you spell poorly. It's because...\",\n",
       " 'He went naked to prove a point',\n",
       " \"i'd rather be saved than my baby\",\n",
       " 'I was involved in a hit and run, but the idiot left their plate in my wheel.',\n",
       " 'I damn near hate my downstairs neighbors austic child',\n",
       " 'How the fu*k can billionaire corporations pay so little in wages that their employees get food stamps paid by tax ?',\n",
       " 'Why Facebook’s Metaverse Is Dead on Arrival',\n",
       " 'Fortnite Pulls the Travis Scott Emote After Astroworld Concert Tragedy',\n",
       " 'Politician to miss his anti-vaccine mandate rally because he has COVID',\n",
       " '1977 interview - the dignity of Dolly Parton, while Barbara Walters does her best to humiliate and make her feel uncomfortable. \"... Are you a hillbilly? .... Did you look like this as a kid ? ... Is it all you? ... You don\\'t have to look like this? ... Are you a joke? ... Why get married?',\n",
       " 'I have no words',\n",
       " \"Neighbor's 12 year old grandkid decided to sneak a joyride. Freaked out, hit the gas, and crossed their lawn and mine before hitting my house\",\n",
       " 'wa-BAM',\n",
       " 'consider me bamboozled',\n",
       " 'What is a tourist attraction that lives up to the hype?',\n",
       " 'SADIStIC mAn JuGGLes biRd bEFOre ShooTING IT dEaD',\n",
       " 'International cake competition winner 2021',\n",
       " 'Vape detection in our school restrooms',\n",
       " 'A Filipino seeing A Peterbilt 379 in the wild.',\n",
       " 'F1 introduces \"Brundle clause\" that restricts celebrity bodyguard grid access',\n",
       " 'Didn’t know how to feel about it.',\n",
       " 'I only see facts']"
      ]
     },
     "execution_count": 141,
     "metadata": {},
     "output_type": "execute_result"
    }
   ],
   "source": [
    "#titles = browser.find_elements_by_css_selector(\"a.title\") \n",
    "\n",
    "titles2 = browser.find_elements(By.CSS_SELECTOR, \"a.title\")\n",
    "[t.text for t in titles2]"
   ]
  },
  {
   "cell_type": "code",
   "execution_count": 147,
   "id": "fe13dfd3-7209-462c-afcb-ffe3c2e214c3",
   "metadata": {},
   "outputs": [
    {
     "data": {
      "text/plain": [
       "['Inspirational',\n",
       " 'One of the best actors out there',\n",
       " 'Deepest earthquake ever detected should have been impossible',\n",
       " 'ich学iel',\n",
       " 'My lack of religious beliefs was used against me in family court',\n",
       " 'Love is powerful.',\n",
       " 'QT ran into a glass door and is currently in the ER',\n",
       " \"Don't stop believing\",\n",
       " 'Florida, Ladies and Gentlemen...',\n",
       " 'me_irl',\n",
       " 'They probably gonna invite her to their birthday party idk',\n",
       " 'YSK how to increase your chances of survival in a crowd crush',\n",
       " \"Paying £400 a month for a monthly train ticket, only to see the prick infront push through the barriers whilst the attendant looks on and I'm stuck there for 10 seconds like a moron as it resets.\",\n",
       " 'Yeah.... Can you imagine?',\n",
       " 'Calling any or all strangers to watch this toddler for $0.52 /hour!',\n",
       " 'The only thing said in her bio was that she designed clothes…',\n",
       " 'meirl',\n",
       " 'My first Six years of employment as an Immigrant in US [OC]',\n",
       " \"There's no Excusing This. This is Trashy in Any Context.\",\n",
       " 'Professor X asks a girl, \"what is your mutant power?\"',\n",
       " \"I don't know how Dad could afford my surgery, with all that gambling debt he's so afraid of, but I'm just happy to be getting a new kidney!\",\n",
       " \"So glad I've finally achieved the glory of honor level 5\",\n",
       " \"A player sucker punches another player during a woman's youth basketball game\",\n",
       " 'If you find a $100 bill on the ground and it takes you a second to pick it up, for that brief moment you are making $360,000 per hour.',\n",
       " 'Silk modified to reflect sunlight keeps skin 12.5 °C cooler than cotton']"
      ]
     },
     "execution_count": 147,
     "metadata": {},
     "output_type": "execute_result"
    }
   ],
   "source": [
    "# What if we want to navigate to the next page?\n",
    "#\n",
    "#next = browser.find_element_by_css_selector(\".next-button a\")\n",
    "next = browser.find_element(By.CSS_SELECTOR, '.next-button')\n",
    "next.click()\n",
    "#titles = browser.find_elements_by_css_selector(\"a.title\") \n",
    "titles = browser.find_elements(By.CSS_SELECTOR, \"a.title\") \n",
    "[t.text for t in titles]"
   ]
  },
  {
   "cell_type": "code",
   "execution_count": 148,
   "id": "968ebf90-fec3-4049-9525-cb14b5399251",
   "metadata": {},
   "outputs": [],
   "source": [
    "titles_text = []\n",
    "\n",
    "for i in range(3):    \n",
    "    titles = browser.find_elements(By.CSS_SELECTOR, \"a.title\") \n",
    "    titles_text += [t.text for t in titles]\n",
    "    \n",
    "    next = browser.find_element(By.CSS_SELECTOR, \".next-button a\")\n",
    "    next.click()\n"
   ]
  },
  {
   "cell_type": "code",
   "execution_count": 149,
   "id": "e0feebc6-cfe3-4cb3-9b67-8aa570702e5f",
   "metadata": {},
   "outputs": [
    {
     "name": "stdout",
     "output_type": "stream",
     "text": [
      "Inspirational\n",
      "One of the best actors out there\n",
      "Deepest earthquake ever detected should have been impossible\n",
      "ich学iel\n",
      "My lack of religious beliefs was used against me in family court\n",
      "Love is powerful.\n",
      "QT ran into a glass door and is currently in the ER\n",
      "Don't stop believing\n",
      "Florida, Ladies and Gentlemen...\n",
      "me_irl\n",
      "They probably gonna invite her to their birthday party idk\n",
      "YSK how to increase your chances of survival in a crowd crush\n",
      "Paying £400 a month for a monthly train ticket, only to see the prick infront push through the barriers whilst the attendant looks on and I'm stuck there for 10 seconds like a moron as it resets.\n",
      "Yeah.... Can you imagine?\n",
      "Calling any or all strangers to watch this toddler for $0.52 /hour!\n",
      "The only thing said in her bio was that she designed clothes…\n",
      "meirl\n",
      "My first Six years of employment as an Immigrant in US [OC]\n",
      "There's no Excusing This. This is Trashy in Any Context.\n",
      "Professor X asks a girl, \"what is your mutant power?\"\n",
      "I don't know how Dad could afford my surgery, with all that gambling debt he's so afraid of, but I'm just happy to be getting a new kidney!\n",
      "So glad I've finally achieved the glory of honor level 5\n",
      "A player sucker punches another player during a woman's youth basketball game\n",
      "If you find a $100 bill on the ground and it takes you a second to pick it up, for that brief moment you are making $360,000 per hour.\n",
      "Silk modified to reflect sunlight keeps skin 12.5 °C cooler than cotton\n",
      "We agree\n",
      "He was like \" yeah no stfu, get handcuffed\"\n",
      "The way Korra bended this metal like water is just *cheffs kiss*\n",
      "... by Barbara Walters to humiliate and make Dolly Parton feel uncomfortable. \"... Are you a hillbilly? .... Did you look like this as a kid ? ... Is it all you? ... You don't have to look like this? ... Are you a joke? ... Why get married?\" - circa 1977\n",
      "my school blocked a website because it was labeled as education\n",
      "Found this on another sub💀\n",
      "I was today years old when I found out Cricket is married to Bones\n",
      "NPR falsely claims Grosskreutz had his hands raised when he was shot, hours after he testified he was aiming his gun at Rittenhouse\n",
      "Mark who?\n",
      "Go on, ask!\n",
      "I wish i could play dnd and be afairy crow just to do shit like this. (credit to its author)\n",
      "3..2..1.. GO!\n",
      "Fortnite Pulls the Travis Scott Emote After Astroworld Concert Tragedy\n",
      "Saving a black bear in the middle of the lake by removing a plastic container of its head\n",
      "The speed of light visualized\n",
      "Döner macht schöner!\n",
      "How did most baby boomers go from “not believing everything you see on the Internet” to believing almost everything they see on social media?\n",
      "Being an older sibling no longer seems like fun\n",
      "Meine Freundin hat sich vor zwei Stunden selbst umgebracht und ich weiß nicht was ich jetzt tun soll.\n",
      "Tier List Tuesday. This time it's something less horny: Killers I could beat in a fistfight.\n",
      "Guys, I’m literally crying right now... is it true??? 🤯🤯🤯😭😭😭😭\n",
      "anime_irl\n",
      "There appears to be an optimal bedtime - between 10pm and 11pm - linked to better heart health, say researchers who have studied 88,000 volunteers.\n",
      "2 YEARS?????\n",
      "Windows 11's Start Menu has a \"Recommended\" panel that has recently opened files. If you decide to turn it off in the settings to get a cleaner look, it stills leaves the panel there and just hides the files and tells you to turn the feature on in order to use it.\n",
      "Weird looking water bottle.\n",
      "Changing the colour of the pavement bricks to match the original colour pattern\n",
      "Pope Mech, Crusader of Steel, Destroyer of Heretics\n",
      "Came home to my partner in bed with someone else! Pretty sure I struck the right tone?\n",
      "Politiet har stået her på Nørrebrogade den sidste uge og fanget folk der cykler over for rødt. Jeg blev også selv taget.\n",
      "Big FAQ and points update!\n",
      "🔥 Middle-Earth on Earth: shot of Mount Rainier looks straight out of J.R.R. Tolkien's epic\n",
      "Give players the choice, not the power.\n",
      "What am I supposed to do about my husband who’s version of sleepwalking is essentially sexual assault?\n",
      "Switch save files and the problem Nintendo will eventually create\n",
      "Give him a rap name\n",
      "Thanks, I hate cam-girl Boo\n",
      "RIP Paul Gosar\n",
      "ID picture guidelines from my old highschool\n",
      "to not touch everything\n",
      "Cops taze wet naked man 53 times, but are now shocked to be charged with second-degree murder...\n",
      "Fortnite Pulls the Travis Scott Emote After Astroworld Concert Tragedy\n",
      "LPT: If You Are Driving Your Car At Night And Another Car Behind You (Or Coming The Other Way) Turns Off Their Lights & Back On (Multiple Times) - They Are Trying To Tell You That Your Lights Are Off.\n",
      "Hinthi bad vroo\n",
      "Indian team for the T20 series against New Zealand:\n",
      "Found on sicko mode lol\n",
      "Fabrizio Romano : Three days after derby defeat, there are still no contacts between Manchester United board and other managers. No talks. 🚫🔴 #MUFC Ole Gunnar Solskjær still supported by main part of board members. Joel Glazer only one who can change the situation - but there’s still no signal.\n",
      "Q&A with the Genshin Development Team by PASH! Magazine [Translated]\n",
      "Anon dunks like no other\n",
      "Neutron star experiment\n"
     ]
    }
   ],
   "source": [
    "for t in titles_text:\n",
    "    print(t)"
   ]
  },
  {
   "cell_type": "markdown",
   "id": "74057aae-55d3-4e08-a5f0-a6a751e6d7d4",
   "metadata": {},
   "source": [
    "***\n",
    "## Chapter 2 - Parsing with BeautifulSoup\n",
    "\n",
    "### Server-side\n",
    "* Send you generated HTML to render website\n",
    "\n",
    "### Client-side\n",
    "* Send you code that runs in your browser to generate HTML\n",
    "* If source HTML different from HTML in Element explorer"
   ]
  },
  {
   "cell_type": "code",
   "execution_count": 51,
   "id": "6a6625e6-8b27-4850-94d9-c330747d7332",
   "metadata": {},
   "outputs": [],
   "source": [
    "import requests"
   ]
  },
  {
   "cell_type": "code",
   "execution_count": 71,
   "id": "3d0b74ac-1c63-4072-90cb-5359adb4d2f4",
   "metadata": {},
   "outputs": [],
   "source": [
    "url = \"https://en.wikipedia.org/wiki/List_of_HTTP_status_codes\"\n",
    "header = { \"From\":\"Student at CU Boulder\" }\n",
    "\n",
    "response = requests.get(url, headers=header)\n",
    "if response.status_code !=200:\n",
    "    print(\"Failed to get HTML: \",\n",
    "              response.status_code, response.reason)\n",
    "    exit()\n",
    "html = response.text"
   ]
  },
  {
   "cell_type": "code",
   "execution_count": 75,
   "id": "fa226427-9326-43e2-bf9c-cff937cc3b8b",
   "metadata": {},
   "outputs": [
    {
     "data": {
      "text/plain": [
       "\n",
       "<p id=\"foo1\"></p>\n",
       "<p id=\"foo2\"></p>"
      ]
     },
     "execution_count": 75,
     "metadata": {},
     "output_type": "execute_result"
    }
   ],
   "source": [
    "test_html = '''\n",
    "    <p id=\"foo1\"></p>\n",
    "    <p id=\"foo2\"></p>\n",
    "'''\n",
    "# See the difference between html and html5lib: \n",
    "#\n",
    "from bs4 import BeautifulSoup\n",
    "BeautifulSoup(test_html, \"html.parser\")"
   ]
  },
  {
   "cell_type": "code",
   "execution_count": 76,
   "id": "799921ae-3773-43b8-bac8-cc946639399d",
   "metadata": {},
   "outputs": [
    {
     "data": {
      "text/plain": [
       "<html><head></head><body><p id=\"foo1\"></p>\n",
       "    <p id=\"foo2\"></p>\n",
       "</body></html>"
      ]
     },
     "execution_count": 76,
     "metadata": {},
     "output_type": "execute_result"
    }
   ],
   "source": [
    "BeautifulSoup(test_html, \"html5lib\")"
   ]
  },
  {
   "cell_type": "markdown",
   "id": "fc3099d9-3946-4fee-a83c-054637201592",
   "metadata": {},
   "source": [
    "### Navigating HTML with Beautiful Soup\n",
    "### Using \"find_all\" and \"find\"\n",
    "* soup.find_all(\"p\")                            | # return all \"p\"\n",
    "* soup.find_all([\"th\",\"td\"])                    | # Anything matching either tag\n",
    "* soup.find_all(class_=\"buzz\")                  | # Looks for specific class\n",
    "* soup.find_all(id=re.compile(\"^foo\"))          | # return tags with id beginning with foo\n",
    "\n",
    "#### A Tag Object\n",
    "* Tag attributes are in a dictionary\n",
    "    * Can see full dictionary with: tag.attrs\n",
    "    * tag[\"id\"] will throw error if attribute not specified, us tag.get(\"id\")\n",
    "    * Properties both read and writable\n",
    "    \n",
    "#### Warning: Don't Go Down the Rabbit Hole\n",
    "* take advantage of t he power of selectors\n",
    "* Don't over-Python the parsing\n",
    "* It's easy to start writing bad code, it's hard to stop. \n"
   ]
  },
  {
   "cell_type": "markdown",
   "id": "3775c1ea-f93f-4eac-9439-e0f4a09c8dfa",
   "metadata": {},
   "source": [
    "#### Example: Scraping Wikipedia\n",
    "* Goals:\n",
    "    * Working through an example with inconsistant data\n",
    "    * Using CSS Selectors with BeautifulSoup\n",
    "    * Using Python and BeautifulSoup methods to narrow down data"
   ]
  },
  {
   "cell_type": "code",
   "execution_count": 80,
   "id": "71c27663-3197-4c44-92fa-ce30b4f21eed",
   "metadata": {},
   "outputs": [],
   "source": [
    "url = \"https://en.wikipedia.org/wiki/List_of_English_monarchs\"\n",
    "header = { \"From\":\"Student at CU Boulder\" }\n",
    "\n",
    "response = requests.get(url, headers=header)\n",
    "html=response.text\n",
    "\n",
    "soup = BeautifulSoup(html, \"html5lib\")"
   ]
  },
  {
   "cell_type": "code",
   "execution_count": 94,
   "id": "f82a9cc9-314e-453a-bc7f-f5dfddcc06a6",
   "metadata": {},
   "outputs": [
    {
     "name": "stdout",
     "output_type": "stream",
     "text": [
      "['Ælfweardc.\\u200917 July 924–2 August 924[9](16\\xa0days)', '']\n",
      "['(1st reign)[a]ÆthelredÆthelred the Unready18 March 978–1013(34–35 years)', '']\n",
      "['SweynSweyn Forkbeard25 December 1013–3 February 1014(41\\xa0days)', '']\n",
      "['(2nd reign)ÆthelredÆthelred the Unready3 February 1014–23 April 1016(2\\xa0years, 81\\xa0days)', '']\n",
      "['CanuteCnut the Great18 October 1016–12 November 1035(19\\xa0years, 26\\xa0days)', '']\n",
      "['William IWilliam the Conqueror[d]25 December 1066–9 September 1087(20\\xa0years, 259\\xa0days)', '']\n",
      "['William IIWilliam Rufus26 September 1087[i]–2 August 1100(12\\xa0years, 311\\xa0days)', '']\n",
      "['Henry IHenry Beauclerc5 August 1100[ii]–1 December 1135(35\\xa0years, 119\\xa0days)', '']\n",
      "['StephenStephen of Blois22 December 1135[iii]–25 October 1154(18\\xa0years, 308\\xa0days)', '']\n",
      "['MatildaEmpress Matilda7 April 1141–1 November 1141(209\\xa0days)', '']\n",
      "['Henry IIHenry Curtmantle19 December 1154[iv]–6 July 1189(34\\xa0years, 200\\xa0days)', '']\n",
      "['Richard IRichard the Lionheart3 September 1189[v]–6 April 1199(9\\xa0years, 216\\xa0days)', '']\n",
      "['JohnJohn Lackland27 May 1199[vi]–19 October 1216(17\\xa0years, 146\\xa0days)', '']\n",
      "['Louis the Lion2 June 1216–20 September 1217(1 year, 111 days)', '']\n",
      "['Henry IIIHenry of Winchester28 October 1216[vii]–16 November 1272(56\\xa0years, 20\\xa0days)', '']\n",
      "['Edward IEdward Longshanks20 November 1272[viii]–7 July 1307(34\\xa0years, 230\\xa0days)', '']\n",
      "['Edward IIEdward of Caernarfon8 July 1307[ix]–20 January 1327(19\\xa0years, 197\\xa0days)', '']\n",
      "['Edward III25 January 1327[x]–21 June 1377(50\\xa0years, 148\\xa0days)', '']\n",
      "['Richard II22 June 1377[xi]–29 September 1399(22\\xa0years, 100\\xa0days)', '']\n",
      "['Henry IVHenry of Bolingbroke30 September 1399[xii]–20 March 1413(13\\xa0years, 172\\xa0days)', '']\n",
      "['Henry V21 March 1413[xiii]–31 August 1422(9\\xa0years, 164\\xa0days)', '']\n",
      "['(1st reign)Henry VI1 September 1422[xiv]–4 March 1461(38\\xa0years, 185\\xa0days)', '']\n",
      "['(1st reign)Edward IV4 March 1461[xv]–3 October 1470(9\\xa0years, 214\\xa0days)', '']\n",
      "['(2nd reign)Henry VI3 October 1470–11 April 1471(191\\xa0days)', '']\n",
      "['(2nd reign)Edward IV11 April 1471–9 April 1483(11\\xa0years, 364\\xa0days)', '']\n",
      "['Edward V9 April 1483–25 June 1483[g](78\\xa0days)', '']\n",
      "['Richard III26 June 1483[xvi]–22 August 1485(2\\xa0years, 58\\xa0days)', '']\n",
      "['James I24 March 1603[xxii]–27 March 1625(22\\xa0years, 4\\xa0days)', '']\n",
      "['Charles I27 March 1625[xxiii]–30 January 1649(23\\xa0years, 310\\xa0days)', '']\n",
      "['Charles II29 May 1660[xxiv]–6 February 1685(24\\xa0years, 254\\xa0days)', '']\n",
      "['James II6 February 1685[xxv]–23 December 1688(Overthrown after 3\\xa0years, 321\\xa0days)', '']\n",
      "['Mary II13 February 1689[xxvi]–28 December 1694(5\\xa0years, 319\\xa0days)', '']\n",
      "['William IIIWilliam of Orange13 February 1689[xxvi]–8 March 1702(13\\xa0years, 24\\xa0days)', '']\n",
      "['Anne8 March 1702[xxvii]–1 May 1707[124](5\\xa0years, 55\\xa0days)(Queen of Great Britain until1 August 1714)(12\\xa0years, 147\\xa0days)', '']\n"
     ]
    }
   ],
   "source": [
    "for a in soup.select(\".wikitable a b\"):\n",
    "    name = a.text\n",
    "    cell = a.find_parent(\"td\")\n",
    "    \n",
    "    contents = cell.text.split(\"\\n\")\n",
    "    print(contents)\n",
    "   "
   ]
  },
  {
   "cell_type": "code",
   "execution_count": null,
   "id": "a61f886b-afc3-4917-bfa3-4367f924a795",
   "metadata": {},
   "outputs": [],
   "source": []
  }
 ],
 "metadata": {
  "kernelspec": {
   "display_name": "Python 3",
   "language": "python",
   "name": "python3"
  },
  "language_info": {
   "codemirror_mode": {
    "name": "ipython",
    "version": 3
   },
   "file_extension": ".py",
   "mimetype": "text/x-python",
   "name": "python",
   "nbconvert_exporter": "python",
   "pygments_lexer": "ipython3",
   "version": "3.9.4"
  }
 },
 "nbformat": 4,
 "nbformat_minor": 5
}
